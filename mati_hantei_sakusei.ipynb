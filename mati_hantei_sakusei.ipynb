{
 "cells": [
  {
   "cell_type": "code",
   "execution_count": 1,
   "metadata": {},
   "outputs": [],
   "source": [
    "from generateMati import *\n",
    "\n",
    "test_list_4 = [1111,1234,1224,1133,2223,2224]\n",
    "test_list_7 = [1111234,1111345,1122233]\n",
    "test_list_13 = [1112345678999,2223334445566,1111234567899]\n"
   ]
  },
  {
   "cell_type": "code",
   "execution_count": 2,
   "metadata": {},
   "outputs": [],
   "source": [
    "t = hantei()\n"
   ]
  },
  {
   "cell_type": "code",
   "metadata": {},
   "outputs": [
    {
     "data": {
      "text/plain": "{7, 9}"
     },
     "execution_count": 3,
     "metadata": {},
     "output_type": "execute_result"
    }
   ],
   "source": [
    "t.hanteikun(1113335557799)"
   ],
   "execution_count": 3
  },
  {
   "cell_type": "code",
   "execution_count": 4,
   "metadata": {},
   "outputs": [
    {
     "name": "stdout",
     "output_type": "stream",
     "text": [
      "1112345678999 {1, 2, 3, 4, 5, 6, 7, 8, 9}\n",
      "2223334445566 {2, 3, 4, 5, 6, 7}\n",
      "1111234567899 {9, 3, 6}\n"
     ]
    }
   ],
   "source": [
    "for i in test_list_13:\n",
    "    k = t.hanteikun(i)\n",
    "    print(i,k)"
   ]
  },
  {
   "cell_type": "code",
   "execution_count": 5,
   "metadata": {},
   "outputs": [
    {
     "data": {
      "text/plain": "0.006122112274169922"
     },
     "execution_count": 5,
     "metadata": {},
     "output_type": "execute_result"
    }
   ],
   "source": [
    "t.hantei_time"
   ]
  },
  {
   "cell_type": "code",
   "metadata": {
    "collapsed": false,
    "jupyter": {
     "outputs_hidden": false
    },
    "pycharm": {
     "name": "#%%\n"
    }
   },
   "outputs": [],
   "source": [
    "poi = generate_mondai(1)\n",
    "sample = poi.generate_a().items()"
   ],
   "execution_count": 6
  },
  {
   "cell_type": "code",
   "execution_count": 7,
   "outputs": [
    {
     "name": "stdout",
     "output_type": "stream",
     "text": [
      "手配:2334445567888 待ち:{1, 3, 4, 6, 7, 9}\n",
      "自摸:2 切り:5 2334445678882 {1, 2, 3, 4, 6, 7, 9} 枚数:19\n"
     ]
    }
   ],
   "source": [
    "hoo = nanikiru()\n",
    "hoo.nanikiru_check(sample)"
   ],
   "metadata": {
    "collapsed": false,
    "pycharm": {
     "name": "#%%\n"
    }
   }
  }
 ],
 "metadata": {
  "kernelspec": {
   "display_name": "Python 3",
   "language": "python",
   "name": "python3"
  },
  "language_info": {
   "codemirror_mode": {
    "name": "ipython",
    "version": 3
   },
   "file_extension": ".py",
   "mimetype": "text/x-python",
   "name": "python",
   "nbconvert_exporter": "python",
   "pygments_lexer": "ipython3",
   "version": "3.7.3"
  }
 },
 "nbformat": 4,
 "nbformat_minor": 4
}