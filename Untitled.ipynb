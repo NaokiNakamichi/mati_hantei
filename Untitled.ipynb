{
 "cells": [
  {
   "cell_type": "code",
   "execution_count": 153,
   "metadata": {},
   "outputs": [],
   "source": [
    "import numpy as np\n",
    "import collections\n",
    "import random"
   ]
  },
  {
   "cell_type": "code",
   "execution_count": 169,
   "metadata": {},
   "outputs": [],
   "source": [
    "class hantei:\n",
    "    def __init__(self,n=13):\n",
    "        if (n + 1) % 3 == 2:\n",
    "            self.janto = 1\n",
    "            self.mentsu = (n + 1) // 3\n",
    "            self.n = n\n",
    "        elif (n + 1) % 3 == 0:\n",
    "            self.janto = 0\n",
    "            self.mentsu = (n + 1) // 3\n",
    "            self.n = n\n",
    "        else:\n",
    "            raise ValueError(\"その枚数では待ち判定できません。\")\n",
    "            \n",
    "    def renban_check(self, x):\n",
    "        x.sort()\n",
    "        if (x[0] + 1 == x[1]) and (x[1] + 1 == x[2]):\n",
    "            return True\n",
    "        else:\n",
    "            return False\n",
    "        \n",
    "        \n",
    "    def check_4(self,nyuryoku):\n",
    "        a = range(1,10)\n",
    "        k = str(nyuryoku)\n",
    "        tehai = []\n",
    "        hora = []\n",
    "        for i in k:\n",
    "            tehai.append(int(i))\n",
    "        if len(set(tehai)) == 1:\n",
    "            return []\n",
    "        else:\n",
    "            for i in a:\n",
    "                kari_tehai = tehai + [i]\n",
    "                if len(set(kari_tehai)) != len(kari_tehai):\n",
    "                    c = collections.Counter(kari_tehai)\n",
    "                    for key,value in c.items():\n",
    "                        if value > 1:\n",
    "                            kari_tehai.remove(key)\n",
    "                            kari_tehai.remove(key)\n",
    "                            if len(set(kari_tehai)) == 1:\n",
    "                                hora.append(i)\n",
    "                            if self.renban_check(kari_tehai):\n",
    "                                hora.append(i)\n",
    "                            kari_tehai.append(key)\n",
    "                            kari_tehai.append(key)\n",
    "            return set(hora)\n",
    "                        \n",
    "                    \n",
    "                    \n",
    "                \n",
    "                    \n",
    "                \n",
    "                \n",
    "            \n",
    "            "
   ]
  },
  {
   "cell_type": "code",
   "execution_count": 170,
   "metadata": {},
   "outputs": [],
   "source": [
    "t = hantei(4)"
   ]
  },
  {
   "cell_type": "code",
   "execution_count": 171,
   "metadata": {},
   "outputs": [
    {
     "name": "stdout",
     "output_type": "stream",
     "text": [
      "8383 {8, 3}\n",
      "9614 set()\n",
      "3788 set()\n",
      "8462 set()\n",
      "3914 set()\n",
      "2131 {1, 4}\n",
      "7747 {4}\n",
      "7332 set()\n",
      "5528 set()\n",
      "1735 set()\n"
     ]
    }
   ],
   "source": [
    "for i in range(10):\n",
    "    c = [random.randint(1, 9) for i in range(4)]\n",
    "    k = \"\"\n",
    "    for j in c:\n",
    "        k += str(j)\n",
    "    l = int(k)\n",
    "    print(l,t.check_4(l))"
   ]
  },
  {
   "cell_type": "code",
   "execution_count": null,
   "metadata": {},
   "outputs": [],
   "source": []
  },
  {
   "cell_type": "code",
   "execution_count": null,
   "metadata": {},
   "outputs": [],
   "source": []
  }
 ],
 "metadata": {
  "kernelspec": {
   "display_name": "Python 3",
   "language": "python",
   "name": "python3"
  },
  "language_info": {
   "codemirror_mode": {
    "name": "ipython",
    "version": 3
   },
   "file_extension": ".py",
   "mimetype": "text/x-python",
   "name": "python",
   "nbconvert_exporter": "python",
   "pygments_lexer": "ipython3",
   "version": "3.7.3"
  }
 },
 "nbformat": 4,
 "nbformat_minor": 4
}
