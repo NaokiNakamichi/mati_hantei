{
 "cells": [
  {
   "cell_type": "code",
   "execution_count": 83,
   "metadata": {},
   "outputs": [],
   "source": [
    "import numpy as np\n",
    "import collections\n",
    "import random\n",
    "import copy\n",
    "\n",
    "test_list_4 = [1111,1234,1224,1133,2223,2224]\n",
    "test_list_7 = [1111234,1111345,1122233]"
   ]
  },
  {
   "cell_type": "code",
   "execution_count": 160,
   "metadata": {},
   "outputs": [],
   "source": [
    "class hantei:\n",
    "    def __init__(self,n=13):\n",
    "        if (n + 1) % 3 == 2:\n",
    "            self.janto = 1\n",
    "            self.mentsu = (n + 1) // 3\n",
    "            self.n = n\n",
    "        elif (n + 1) % 3 == 0:\n",
    "            self.janto = 0\n",
    "            self.mentsu = (n + 1) // 3\n",
    "            self.n = n\n",
    "        else:\n",
    "            raise ValueError(\"その枚数では待ち判定できません。\")\n",
    "            \n",
    "    def renban_check(self, x):\n",
    "        x.sort()\n",
    "        if (x[0] + 1 == x[1]) and (x[1] + 1 == x[2]):\n",
    "            return True\n",
    "        else:\n",
    "            return False\n",
    "        \n",
    "        \n",
    "    def check_4(self,nyuryoku):\n",
    "        a = range(1,10)\n",
    "        k = str(nyuryoku)\n",
    "        tehai = []\n",
    "        hora = []\n",
    "        for i in k:\n",
    "            tehai.append(int(i))\n",
    "        if len(set(tehai)) == 1:\n",
    "            return []\n",
    "        else:\n",
    "            for i in a:\n",
    "                kari_tehai = tehai + [i]\n",
    "                if len(set(kari_tehai)) != len(kari_tehai):\n",
    "                    c = collections.Counter(kari_tehai)\n",
    "                    for key,value in c.items():\n",
    "                        if value > 1:\n",
    "                            kari_tehai.remove(key)\n",
    "                            kari_tehai.remove(key)\n",
    "                            if len(set(kari_tehai)) == 1:\n",
    "                                hora.append(i)\n",
    "                            if self.renban_check(kari_tehai):\n",
    "                                hora.append(i)\n",
    "                            kari_tehai.append(key)\n",
    "                            kari_tehai.append(key)\n",
    "            return set(hora)\n",
    "        \n",
    "    def remove_3_syuntsu(self, x, i):\n",
    "        x.remove(i)\n",
    "        x.remove(i+1)\n",
    "        x.remove(i+2)\n",
    "        return x\n",
    "    \n",
    "    def remove_3_kotsu(self, x, i):\n",
    "        x.remove(i)\n",
    "        x.remove(i)\n",
    "        x.remove(i)\n",
    "        return x\n",
    "    \n",
    "    def list_to_int(self, x):\n",
    "        k = \"\"\n",
    "        for j in x:\n",
    "            k += str(j)\n",
    "        l = int(k)\n",
    "        return l\n",
    "        \n",
    "    def sweap_3(self, x):\n",
    "        tehai = []\n",
    "        sweap_list = []\n",
    "        for i in str(x):\n",
    "            tehai.append(int(i))\n",
    "        tehai.sort()\n",
    "        c = collections.Counter(tehai)\n",
    "        syurui = set(tehai)\n",
    "        for i in range(1,8):\n",
    "            kari_tehai = copy.deepcopy(tehai)\n",
    "            if (i in syurui) and (i + 1 in syurui) and (i + 2 in syurui):\n",
    "                k = self.remove_3_syuntsu(kari_tehai, i)\n",
    "                sweap_list.append(self.list_to_int(k))\n",
    "        for i in range(1,10):\n",
    "            kari_tehai = copy.deepcopy(tehai)\n",
    "            if c[i] > 2:\n",
    "                k = self.remove_3_kotsu(kari_tehai, i) \n",
    "                sweap_list.append(self.list_to_int(k))\n",
    "        return sweap_list\n",
    "    \n",
    "    \n",
    "    def hanteikun(self, x):\n",
    "        kouho_1 = self.sweap_3(x)\n",
    "        hora = set()\n",
    "        for k in kouho_1:\n",
    "            kouho_2 = self.sweap_3(k)\n",
    "            for j in kouho_2:\n",
    "                kouho_3 = self.sweap_3(k)\n",
    "                for l in kouho_3:\n",
    "                    hora = hora | self.check_4(l)\n",
    "        return hora\n",
    "                                "
   ]
  },
  {
   "cell_type": "code",
   "execution_count": 161,
   "metadata": {},
   "outputs": [],
   "source": [
    "t = hantei(4)"
   ]
  },
  {
   "cell_type": "code",
   "execution_count": 162,
   "metadata": {},
   "outputs": [
    {
     "name": "stdout",
     "output_type": "stream",
     "text": [
      "5394 {9}\n",
      "9949 {4}\n",
      "8373 {9, 6}\n",
      "7439 set()\n",
      "2835 set()\n",
      "8335 set()\n",
      "8494 {7}\n",
      "7678 {7}\n",
      "9815 set()\n",
      "8896 set()\n"
     ]
    }
   ],
   "source": [
    "for i in range(10):\n",
    "    c = [random.randint(1, 9) for i in range(4)]\n",
    "    k = \"\"\n",
    "    for j in c:\n",
    "        k += str(j)\n",
    "    l = int(k)\n",
    "    print(l,t.check_4(l))"
   ]
  },
  {
   "cell_type": "code",
   "execution_count": 163,
   "metadata": {},
   "outputs": [
    {
     "data": {
      "text/plain": [
       "[1114567, 1111567, 1111267, 1111237, 1111234, 1234567]"
      ]
     },
     "execution_count": 163,
     "metadata": {},
     "output_type": "execute_result"
    }
   ],
   "source": [
    "t.sweap_3(1111234567)"
   ]
  },
  {
   "cell_type": "code",
   "execution_count": 165,
   "metadata": {},
   "outputs": [
    {
     "data": {
      "text/plain": [
       "{6}"
      ]
     },
     "execution_count": 165,
     "metadata": {},
     "output_type": "execute_result"
    }
   ],
   "source": [
    "t.hanteikun(1113335557799)"
   ]
  },
  {
   "cell_type": "code",
   "execution_count": null,
   "metadata": {},
   "outputs": [],
   "source": []
  },
  {
   "cell_type": "code",
   "execution_count": null,
   "metadata": {},
   "outputs": [],
   "source": []
  },
  {
   "cell_type": "code",
   "execution_count": null,
   "metadata": {},
   "outputs": [],
   "source": []
  }
 ],
 "metadata": {
  "kernelspec": {
   "display_name": "Python 3",
   "language": "python",
   "name": "python3"
  },
  "language_info": {
   "codemirror_mode": {
    "name": "ipython",
    "version": 3
   },
   "file_extension": ".py",
   "mimetype": "text/x-python",
   "name": "python",
   "nbconvert_exporter": "python",
   "pygments_lexer": "ipython3",
   "version": "3.7.3"
  }
 },
 "nbformat": 4,
 "nbformat_minor": 4
}
