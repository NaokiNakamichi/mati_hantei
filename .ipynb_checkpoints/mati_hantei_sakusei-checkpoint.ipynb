{
 "cells": [
  {
   "cell_type": "code",
   "execution_count": 1,
   "metadata": {},
   "outputs": [],
   "source": [
    "import numpy as np\n",
    "import collections\n",
    "import random\n",
    "import copy\n",
    "import time\n",
    "\n",
    "test_list_4 = [1111,1234,1224,1133,2223,2224]\n",
    "test_list_7 = [1111234,1111345,1122233]\n",
    "test_list_13 = [1112345678999,2223334445566,1111234567899]"
   ]
  },
  {
   "cell_type": "code",
   "execution_count": 2,
   "metadata": {},
   "outputs": [],
   "source": [
    "class hantei:\n",
    "    def __init__(self):\n",
    "        self.hantei_time = 0\n",
    "            \n",
    "    def renban_check(self, x):\n",
    "        x.sort()\n",
    "        if (x[0] + 1 == x[1]) and (x[1] + 1 == x[2]):\n",
    "            return True\n",
    "        else:\n",
    "            return False\n",
    "        \n",
    "        \n",
    "    def check_4(self,nyuryoku):\n",
    "        a = range(1,10)\n",
    "        k = str(nyuryoku)\n",
    "        tehai = []\n",
    "        hora = []\n",
    "        for i in k:\n",
    "            tehai.append(int(i))\n",
    "        if len(set(tehai)) == 1:\n",
    "            return []\n",
    "        else:\n",
    "            for i in a:\n",
    "                kari_tehai = tehai + [i]\n",
    "                if len(set(kari_tehai)) != len(kari_tehai):\n",
    "                    c = collections.Counter(kari_tehai)\n",
    "                    for key,value in c.items():\n",
    "                        if value > 1:\n",
    "                            kari_tehai.remove(key)\n",
    "                            kari_tehai.remove(key)\n",
    "                            if len(set(kari_tehai)) == 1:\n",
    "                                hora.append(i)\n",
    "                            if self.renban_check(kari_tehai):\n",
    "                                hora.append(i)\n",
    "                            kari_tehai.append(key)\n",
    "                            kari_tehai.append(key)\n",
    "            return set(hora)\n",
    "        \n",
    "    def remove_3_syuntsu(self, x, i):\n",
    "        x.remove(i)\n",
    "        x.remove(i+1)\n",
    "        x.remove(i+2)\n",
    "        return x\n",
    "    \n",
    "    def remove_3_kotsu(self, x, i):\n",
    "        x.remove(i)\n",
    "        x.remove(i)\n",
    "        x.remove(i)\n",
    "        return x\n",
    "    \n",
    "    def list_to_int(self, x):\n",
    "        k = \"\"\n",
    "        for j in x:\n",
    "            k += str(j)\n",
    "        l = int(k)\n",
    "        return l\n",
    "        \n",
    "    def sweap_3(self, x):\n",
    "        tehai = []\n",
    "        sweap_list = []\n",
    "        for i in str(x):\n",
    "            tehai.append(int(i))\n",
    "        tehai.sort()\n",
    "        c = collections.Counter(tehai)\n",
    "        syurui = set(tehai)\n",
    "        for i in range(1,8):\n",
    "            kari_tehai = copy.deepcopy(tehai)\n",
    "            if (i in syurui) and (i + 1 in syurui) and (i + 2 in syurui):\n",
    "                k = self.remove_3_syuntsu(kari_tehai, i)\n",
    "                sweap_list.append(self.list_to_int(k))\n",
    "        for i in range(1,10):\n",
    "            kari_tehai = copy.deepcopy(tehai)\n",
    "            if c[i] > 2:\n",
    "                k = self.remove_3_kotsu(kari_tehai, i) \n",
    "                sweap_list.append(self.list_to_int(k))\n",
    "        return sweap_list\n",
    "    \n",
    "    \n",
    "    def hanteikun(self, x):\n",
    "        start = time.time()\n",
    "        kouho_1 = self.sweap_3(x)\n",
    "        hora = set()\n",
    "        for k in kouho_1:\n",
    "            kouho_2 = self.sweap_3(k)\n",
    "            for j in kouho_2:\n",
    "                kouho_3 = self.sweap_3(j)\n",
    "                for l in kouho_3:\n",
    "                    hora = hora | self.check_4(l)\n",
    "        self.hantei_time = time.time() - start\n",
    "        return hora\n",
    "                                "
   ]
  },
  {
   "cell_type": "code",
   "execution_count": 3,
   "metadata": {},
   "outputs": [],
   "source": [
    "t = hantei()"
   ]
  },
  {
   "cell_type": "code",
   "execution_count": 4,
   "metadata": {},
   "outputs": [
    {
     "name": "stdout",
     "output_type": "stream",
     "text": [
      "1467 set()\n",
      "1525 {3}\n",
      "1331 {1, 3}\n",
      "9634 set()\n",
      "1835 set()\n",
      "9526 set()\n",
      "6742 set()\n",
      "1629 set()\n",
      "4719 set()\n",
      "8582 set()\n"
     ]
    }
   ],
   "source": [
    "for i in range(10):\n",
    "    c = [random.randint(1, 9) for i in range(4)]\n",
    "    k = \"\"\n",
    "    for j in c:\n",
    "        k += str(j)\n",
    "    l = int(k)\n",
    "    print(l,t.check_4(l))"
   ]
  },
  {
   "cell_type": "code",
   "execution_count": 5,
   "metadata": {},
   "outputs": [
    {
     "data": {
      "text/plain": [
       "[1114567, 1111567, 1111267, 1111237, 1111234, 1234567]"
      ]
     },
     "execution_count": 5,
     "metadata": {},
     "output_type": "execute_result"
    }
   ],
   "source": [
    "t.sweap_3(1111234567)"
   ]
  },
  {
   "cell_type": "code",
   "execution_count": 6,
   "metadata": {},
   "outputs": [
    {
     "data": {
      "text/plain": [
       "{7, 9}"
      ]
     },
     "execution_count": 6,
     "metadata": {},
     "output_type": "execute_result"
    }
   ],
   "source": [
    "t.hanteikun(1113335557799)"
   ]
  },
  {
   "cell_type": "code",
   "execution_count": 7,
   "metadata": {},
   "outputs": [
    {
     "name": "stdout",
     "output_type": "stream",
     "text": [
      "1112345678999 {1, 2, 3, 4, 5, 6, 7, 8, 9}\n",
      "2223334445566 {2, 3, 4, 5, 6, 7}\n",
      "1111234567899 {9, 3, 6}\n"
     ]
    }
   ],
   "source": [
    "for i in test_list_13:\n",
    "    k = t.hanteikun(i)\n",
    "    print(i,k)"
   ]
  },
  {
   "cell_type": "code",
   "execution_count": 8,
   "metadata": {},
   "outputs": [
    {
     "data": {
      "text/plain": [
       "0.007792949676513672"
      ]
     },
     "execution_count": 8,
     "metadata": {},
     "output_type": "execute_result"
    }
   ],
   "source": [
    "t.hantei_time"
   ]
  },
  {
   "cell_type": "code",
   "execution_count": 9,
   "metadata": {},
   "outputs": [],
   "source": [
    "class generate_mondai(hantei):\n",
    "    def __init__(self,sakuseisuu):\n",
    "        super(generate_mondai,self).__init__()\n",
    "        self.sakuseisuu = sakuseisuu\n",
    "        self.result = {}\n",
    "\n",
    "    def generate_q(self):\n",
    "        question = []\n",
    "        for _ in range(13):\n",
    "            question.append(str(random.randint(1,9)))\n",
    "        c = collections.Counter(question)\n",
    "        kaisuu = c.most_common()[0][1]\n",
    "        if kaisuu > 3:\n",
    "            question = False\n",
    "        else:\n",
    "            question = int(\"\".join(sorted(question)))\n",
    "        return question\n",
    "\n",
    "    def generate_a(self):\n",
    "        while len(self.result) < self.sakuseisuu:\n",
    "            q = self.generate_q()\n",
    "            if q:\n",
    "                k = self.hanteikun(q)\n",
    "                if k:\n",
    "                    self.result[q] = k\n",
    "        return self.result\n",
    "    \n",
    "    def generate_swift(self):\n",
    "        print(\"kari\")"
   ]
  },
  {
   "cell_type": "code",
   "execution_count": 11,
   "metadata": {
    "collapsed": false,
    "jupyter": {
     "outputs_hidden": false
    },
    "pycharm": {
     "name": "#%%\n"
    }
   },
   "outputs": [
    {
     "name": "stdout",
     "output_type": "stream",
     "text": [
      "{1134455567999: {3, 6}, 1112223334569: {9}, 2224566778889: {8, 5}, 1223345557899: {9, 6}, 1123456788999: {8, 1}, 1123334455666: {1, 2, 4}, 1234445567999: {3, 5, 6, 8}, 1123444567789: {1, 4}, 1234567788999: {3, 6, 7, 8, 9}, 1234456677899: {9, 4}, 1334455667899: {2}, 2355566778999: {1, 4}, 2223455578899: {7}, 1113667778889: {2, 3}, 2233444777999: {1, 2, 3, 4}, 1134456677889: {2, 5}, 1112233456799: {1, 4, 9}, 1122234455566: {4, 7}, 1223344456789: {1, 4, 7}, 2333455566777: {3, 6}, 3334556667778: {2, 4, 5, 7, 8}, 1122234455789: {3, 6}, 1112223456779: {8}, 2223344478899: {7}, 1236677788999: {5, 6, 7, 8}, 1123445566779: {8}, 2333445677799: {9, 3}, 1113356677889: {4, 7}, 2333455666778: {1, 2, 4, 7}, 2234555678999: {2, 5}, 1233456677799: {9, 6}, 2244455677889: {2, 5}, 1122355677889: {3}, 2223567888999: {1, 3, 4}, 1112224566699: {3, 6, 9}, 1233667778889: {3}, 1114567778999: {3, 6, 7, 8, 9}, 1123455667799: {1, 9}, 1123355566777: {2}, 1112245677899: {8}, 1223345666789: {1, 2, 4, 5, 7}, 1233345566788: {8, 3}, 1234466788999: {7}, 1222355666789: {2, 5}, 2234445688999: {3}, 1112356778899: {4, 7}, 1112334566678: {1, 4, 6, 9}, 1122334555677: {5, 7}, 1234455567899: {9, 4}, 1112234445567: {2, 4}, 1222333445679: {9}, 2344555666789: {1, 3, 4, 5, 6}, 1112344567789: {1, 4, 7}, 1122455667789: {1, 2}, 1123344488999: {2}, 1123355667799: {2}, 1233455568999: {7}, 1112233456677: {8, 5}, 1112444567999: {2, 3}, 1233345566779: {8}, 2344555688899: {9, 5}, 1112344466679: {8}, 1113445566788: {8, 2, 5}, 1223345667799: {8, 5}, 1122233478999: {3}, 2223466677889: {9, 2, 5, 6}, 1233456678899: {7}, 1112344455567: {8, 1, 4, 5}, 2224446788899: {5, 8, 9}, 1233444556799: {9, 4}, 1145777888999: {3, 6}, 2223335567999: {4, 5, 8}, 1234555666789: {1, 3, 4, 5, 6}, 2223556677899: {4}, 1112345566699: {9, 5}, 1122334567788: {8, 7}, 1122334466679: {8}, 2223344556789: {1, 3, 4, 6, 7, 9}, 2344455667799: {1, 4, 7, 9}, 1122234556667: {1, 6}, 1112345567888: {2, 3, 5, 6, 8}, 2233344466689: {7}, 1222334455567: {1, 3, 6}, 1124666888999: {3}, 1122233445699: {3}, 1112344556667: {8, 3, 5, 6}, 1122334567799: {9, 7}, 2223455666779: {8}, 2223355567889: {7}, 1133556677789: {1, 3}, 2223356667789: {3, 6}, 1233444567899: {9, 4}, 1234556667899: {4, 7}, 1133355677999: {6}, 1112224556677: {3, 4, 7}, 1233445567889: {8}, 1123344456789: {2, 5}, 1122336677899: {8, 5}, 2233355667999: {4, 7}, 1123334566888: {2}}\n"
     ]
    }
   ],
   "source": [
    "poi = generate_mondai(100)\n",
    "print(poi.generate_a())"
   ]
  },
  {
   "cell_type": "code",
   "execution_count": null,
   "metadata": {
    "collapsed": false,
    "jupyter": {
     "outputs_hidden": false
    },
    "pycharm": {
     "name": "#%%\n"
    }
   },
   "outputs": [],
   "source": [
    "\n",
    "self.list.append(QuestionAnswer(imageList: [\"2\",\"2\",\"2\",\"3\",\"4\",\"4\",\"4\",\"5\",\"6\",\"6\",\"7\",\"7\",\"8\"], boolList: [false,false,false,false,false,true,true,false,true]))"
   ]
  }
 ],
 "metadata": {
  "kernelspec": {
   "display_name": "Python 3",
   "language": "python",
   "name": "python3"
  },
  "language_info": {
   "codemirror_mode": {
    "name": "ipython",
    "version": 3
   },
   "file_extension": ".py",
   "mimetype": "text/x-python",
   "name": "python",
   "nbconvert_exporter": "python",
   "pygments_lexer": "ipython3",
   "version": "3.7.3"
  }
 },
 "nbformat": 4,
 "nbformat_minor": 4
}
